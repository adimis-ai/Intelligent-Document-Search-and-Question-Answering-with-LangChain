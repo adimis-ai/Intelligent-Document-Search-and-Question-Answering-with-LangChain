{
  "cells": [
    {
      "cell_type": "markdown",
      "metadata": {
        "id": "view-in-github",
        "colab_type": "text"
      },
      "source": [
        "<a href=\"https://colab.research.google.com/github/adimis-ai/Intelligent-Document-Search-and-Question-Answering-with-LangChain/blob/main/langchain_semantic_search.ipynb\" target=\"_parent\"><img src=\"https://colab.research.google.com/assets/colab-badge.svg\" alt=\"Open In Colab\"/></a>"
      ]
    },
    {
      "cell_type": "code",
      "execution_count": null,
      "metadata": {
        "id": "51Wn8g88JCpu"
      },
      "outputs": [],
      "source": [
        "!pip install langchain\n",
        "!pip install openai\n",
        "!pip install requests transformers faiss-cpu\n",
        "!pip install PyPDF2"
      ]
    },
    {
      "cell_type": "code",
      "execution_count": null,
      "metadata": {
        "id": "56d08n5RJTE9"
      },
      "outputs": [],
      "source": [
        "from langchain.llms import OpenAI\n",
        "from langchain.chains.qa_with_sources import load_qa_with_sources_chain\n",
        "from langchain.docstore.document import Document\n",
        "import requests\n",
        "from google.colab import drive\n",
        "import os\n",
        "from PyPDF2 import PdfReader\n",
        "from langchain.embeddings.openai import OpenAIEmbeddings\n",
        "from langchain.vectorstores.faiss import FAISS\n",
        "from langchain.text_splitter import CharacterTextSplitter\n",
        "import pickle\n",
        "import os\n"
      ]
    },
    {
      "cell_type": "code",
      "execution_count": null,
      "metadata": {
        "id": "VDoiAEP_u7rE"
      },
      "outputs": [],
      "source": [
        "%env OPENAI_API_KEY = <your key here. NO QUOTES>"
      ]
    },
    {
      "cell_type": "code",
      "execution_count": null,
      "metadata": {
        "id": "FtcEDfHQOg2J"
      },
      "outputs": [],
      "source": [
        "drive.mount('/content/drive')\n",
        "gdrive_path = '/content/drive/MyDrive/sleep_pdf/'"
      ]
    },
    {
      "cell_type": "code",
      "execution_count": null,
      "metadata": {
        "id": "WgvWik96Gi8R"
      },
      "outputs": [],
      "source": [
        "def get_pdf_data(file_path, num_pages = 1):\n",
        "  reader = PdfReader(gdrive_path+file_path)\n",
        "  full_doc_text = \"\"\n",
        "  for page in range(len(reader.pages)):\n",
        "    current_page = reader.pages[page]\n",
        "    text = current_page.extract_text()\n",
        "    full_doc_text += text\n",
        "\n",
        "\n",
        "  return Document(\n",
        "        page_content=full_doc_text,\n",
        "        metadata = {\"source\": file_path}\n",
        "    )"
      ]
    },
    {
      "cell_type": "code",
      "execution_count": null,
      "metadata": {
        "id": "x5o7bn2J1Vrn"
      },
      "outputs": [],
      "source": [
        "def source_docs():\n",
        "    return [get_pdf_data(file) for file in os.listdir(gdrive_path)]"
      ]
    },
    {
      "cell_type": "code",
      "execution_count": null,
      "metadata": {
        "id": "UOG8Dtht8APG"
      },
      "outputs": [],
      "source": [
        "def search_index(source_docs):\n",
        "    source_chunks = []\n",
        "    splitter = CharacterTextSplitter(separator=\" \", chunk_size=1024, chunk_overlap=0)\n",
        "\n",
        "    for source in source_docs:\n",
        "        for chunk in splitter.split_text(source.page_content):\n",
        "            source_chunks.append(Document(page_content=chunk, metadata=source.metadata))\n",
        "    with open(\"search_index.pickle\", \"wb\") as f:\n",
        "        pickle.dump(FAISS.from_documents(source_chunks, OpenAIEmbeddings()), f)"
      ]
    },
    {
      "cell_type": "code",
      "execution_count": null,
      "metadata": {
        "id": "x6d-fA3v8Nnf"
      },
      "outputs": [],
      "source": [
        "chain = load_qa_with_sources_chain(OpenAI(temperature=0),verbose=False, chain_type=\"stuff\")\n",
        "def print_answer(question):\n",
        "    with open(\"search_index.pickle\", \"rb\") as f:\n",
        "        search_index = pickle.load(f)\n",
        "    print(\n",
        "        chain(\n",
        "            {\n",
        "                \"input_documents\": search_index.similarity_search(question, k=3),\n",
        "                \"question\": question,\n",
        "            },\n",
        "            return_only_outputs=True,\n",
        "        )[\"output_text\"]\n",
        "\n",
        "    )\n",
        ""
      ]
    },
    {
      "cell_type": "code",
      "execution_count": null,
      "metadata": {
        "id": "g2tTFCZ9Wivd"
      },
      "outputs": [],
      "source": [
        "import pdb\n",
        "sources = source_docs()\n",
        "search_index(sources)\n",
        "try:\n",
        "  print_answer(<your question on the document corpus here>) # your question here\n",
        "except Exception as e:\n",
        "  print(f\"Unexpected error: {e}\")"
      ]
    }
  ],
  "metadata": {
    "colab": {
      "provenance": [],
      "include_colab_link": true
    },
    "kernelspec": {
      "display_name": "Python 3",
      "name": "python3"
    },
    "language_info": {
      "name": "python"
    }
  },
  "nbformat": 4,
  "nbformat_minor": 0
}